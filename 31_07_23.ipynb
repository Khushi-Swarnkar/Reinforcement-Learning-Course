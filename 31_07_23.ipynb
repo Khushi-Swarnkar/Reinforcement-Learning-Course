{
  "nbformat": 4,
  "nbformat_minor": 0,
  "metadata": {
    "colab": {
      "provenance": [],
      "authorship_tag": "ABX9TyOJrB0o76QHtWnqIpJMhl4O",
      "include_colab_link": true
    },
    "kernelspec": {
      "name": "python3",
      "display_name": "Python 3"
    },
    "language_info": {
      "name": "python"
    }
  },
  "cells": [
    {
      "cell_type": "markdown",
      "metadata": {
        "id": "view-in-github",
        "colab_type": "text"
      },
      "source": [
        "<a href=\"https://colab.research.google.com/github/Khushi-Swarnkar/Reinforcement-Learning-Course/blob/main/31_07_23.ipynb\" target=\"_parent\"><img src=\"https://colab.research.google.com/assets/colab-badge.svg\" alt=\"Open In Colab\"/></a>"
      ]
    },
    {
      "cell_type": "code",
      "execution_count": null,
      "metadata": {
        "id": "PG3gAWOwbk_E"
      },
      "outputs": [],
      "source": [
        "#first lab"
      ]
    },
    {
      "cell_type": "code",
      "source": [
        "!python --version\n"
      ],
      "metadata": {
        "colab": {
          "base_uri": "https://localhost:8080/"
        },
        "id": "TzQ3h4UidWZP",
        "outputId": "b16dd960-a451-4584-8d25-c5f027a0e42e"
      },
      "execution_count": 2,
      "outputs": [
        {
          "output_type": "stream",
          "name": "stdout",
          "text": [
            "Python 3.10.6\n"
          ]
        }
      ]
    },
    {
      "cell_type": "code",
      "source": [
        "x = 5;\n",
        "print(x)\n",
        "print (x, type(x));\n",
        "print(x+1)\n",
        "print(x-1)\n",
        "x += 1\n",
        "print(x)"
      ],
      "metadata": {
        "colab": {
          "base_uri": "https://localhost:8080/"
        },
        "id": "nOuRS3Y9dwUY",
        "outputId": "53d394c5-dda3-4c56-dcf4-6893520c0828"
      },
      "execution_count": 6,
      "outputs": [
        {
          "output_type": "stream",
          "name": "stdout",
          "text": [
            "5\n",
            "5 <class 'int'>\n",
            "6\n",
            "4\n",
            "6\n"
          ]
        }
      ]
    },
    {
      "cell_type": "code",
      "source": [
        "t = True\n",
        "f = False\n",
        "print(t and f)\n",
        "print (t or f)\n",
        "print(type(t))\n",
        "print(t==f)\n",
        "print(t!=f)\n",
        "print(not t)\n"
      ],
      "metadata": {
        "colab": {
          "base_uri": "https://localhost:8080/"
        },
        "id": "sidKEutEe-lv",
        "outputId": "3b9edd5e-43c6-4037-ca86-d4ec5fc84ba3"
      },
      "execution_count": 11,
      "outputs": [
        {
          "output_type": "stream",
          "name": "stdout",
          "text": [
            "False\n",
            "True\n",
            "<class 'bool'>\n",
            "False\n",
            "True\n",
            "False\n"
          ]
        }
      ]
    },
    {
      "cell_type": "code",
      "source": [
        "g = \"hello\"\n",
        "print(g)\n",
        "print(len(g))\n",
        "print(g+\" world!\")\n",
        "print(g.capitalize())\n",
        "print(g.upper())\n",
        "print(g.rjust(13))\n",
        "print(g.center(17))\n",
        "print(g.replace(\"h\",\"p\"))\n",
        "print(\"       world      \".strip())  #strip leading and trailing whitespaces"
      ],
      "metadata": {
        "colab": {
          "base_uri": "https://localhost:8080/"
        },
        "id": "9HUP5STwgZzB",
        "outputId": "fa457cb2-57d2-45cd-9ff1-4cf26de7da4d"
      },
      "execution_count": 22,
      "outputs": [
        {
          "output_type": "stream",
          "name": "stdout",
          "text": [
            "hello\n",
            "5\n",
            "hello world!\n",
            "Hello\n",
            "HELLO\n",
            "        hello\n",
            "      hello      \n",
            "pello\n",
            "world\n"
          ]
        }
      ]
    },
    {
      "cell_type": "code",
      "source": [
        "#format functions\n",
        "str1 = \"{} {} {}\".format(\"hello\",\"world\",3)\n",
        "print(str1)"
      ],
      "metadata": {
        "colab": {
          "base_uri": "https://localhost:8080/"
        },
        "id": "6Bv6DcNFhpf0",
        "outputId": "1ff04549-95fc-43ba-8961-1b895d37c412"
      },
      "execution_count": 17,
      "outputs": [
        {
          "output_type": "stream",
          "name": "stdout",
          "text": [
            "hello world 3\n"
          ]
        }
      ]
    },
    {
      "cell_type": "markdown",
      "source": [
        "data structures in python - list,dictionaries,tuples,sets,dataframe,numpy array"
      ],
      "metadata": {
        "id": "DrAFVq5mkIqg"
      }
    },
    {
      "cell_type": "code",
      "source": [
        "list1 = [1,\"string\",5,\"hello\"]\n",
        "print(list1)\n",
        "list1[1]\n",
        "list1[-1]\n",
        "list1[2]=\"world\"\n",
        "list1.append(7)\n",
        "print(list1)\n",
        "list2 = list1.pop()\n",
        "print(list2)\n",
        "print(list1.pop())"
      ],
      "metadata": {
        "colab": {
          "base_uri": "https://localhost:8080/"
        },
        "id": "JNCkJVv7d2uZ",
        "outputId": "f09a3683-9ce6-403b-dc79-dc4b58cdc333"
      },
      "execution_count": 32,
      "outputs": [
        {
          "output_type": "stream",
          "name": "stdout",
          "text": [
            "[1, 'string', 5, 'hello']\n",
            "[1, 'string', 'world', 'hello', 7]\n",
            "7\n",
            "hello\n"
          ]
        }
      ]
    },
    {
      "cell_type": "code",
      "source": [
        "list1 = list(range(10))\n",
        "print(list1)\n",
        "print(list1[3:5])\n",
        "print(list1[3:])\n",
        "print(list1[:5])\n",
        "print(list1[:-1])\n",
        "print(list1[:])\n",
        "list1[2:4]=[18,12]\n",
        "print(list1)"
      ],
      "metadata": {
        "colab": {
          "base_uri": "https://localhost:8080/"
        },
        "id": "kHzAotd5lKTD",
        "outputId": "9f44cc0b-54c0-48ac-b1a6-143ab21e4614"
      },
      "execution_count": 31,
      "outputs": [
        {
          "output_type": "stream",
          "name": "stdout",
          "text": [
            "[0, 1, 2, 3, 4, 5, 6, 7, 8, 9]\n",
            "[3, 4]\n",
            "[3, 4, 5, 6, 7, 8, 9]\n",
            "[0, 1, 2, 3, 4]\n",
            "[0, 1, 2, 3, 4, 5, 6, 7, 8]\n",
            "[0, 1, 2, 3, 4, 5, 6, 7, 8, 9]\n",
            "[0, 1, 18, 12, 4, 5, 6, 7, 8, 9]\n"
          ]
        }
      ]
    },
    {
      "cell_type": "code",
      "source": [
        "#loops\n",
        "fruits = ['apple','mango','grapes']\n",
        "for fruit in fruits:\n",
        "  print(fruit)\n",
        "for index,fruit in enumerate(fruits):\n",
        "  print('#%d %s' % (index + 1,fruit))\n",
        "for index,fruit in enumerate(fruits):\n",
        "  print('#{} {}' .format(index + 1,fruit))"
      ],
      "metadata": {
        "colab": {
          "base_uri": "https://localhost:8080/"
        },
        "id": "fzU1dPUwmXek",
        "outputId": "1e350296-2554-4e15-b978-0dcd833bb437"
      },
      "execution_count": 43,
      "outputs": [
        {
          "output_type": "stream",
          "name": "stdout",
          "text": [
            "apple\n",
            "mango\n",
            "grapes\n",
            "#1 apple\n",
            "#2 mango\n",
            "#3 grapes\n",
            "#1 apple\n",
            "#2 mango\n",
            "#3 grapes\n"
          ]
        }
      ]
    },
    {
      "cell_type": "code",
      "source": [
        "num = [1,2,3,4,5]\n",
        "square = []\n",
        "for n in num:\n",
        "  square.append(n**2)\n",
        "print(square)"
      ],
      "metadata": {
        "colab": {
          "base_uri": "https://localhost:8080/"
        },
        "id": "PfSbiP-mnx8G",
        "outputId": "f2d56bb5-3f38-4536-e5d4-a38d50c1140a"
      },
      "execution_count": 46,
      "outputs": [
        {
          "output_type": "stream",
          "name": "stdout",
          "text": [
            "[1, 4, 9, 16, 25]\n"
          ]
        }
      ]
    },
    {
      "cell_type": "code",
      "source": [
        "num = [1,2,3,4,5]\n",
        "squares = [x ** 2 for x in num]\n",
        "print(squares)"
      ],
      "metadata": {
        "colab": {
          "base_uri": "https://localhost:8080/"
        },
        "id": "8AfTnOSvpgka",
        "outputId": "5194d2de-d438-4f2f-e57e-5cc8ac284b08"
      },
      "execution_count": 47,
      "outputs": [
        {
          "output_type": "stream",
          "name": "stdout",
          "text": [
            "[1, 4, 9, 16, 25]\n"
          ]
        }
      ]
    },
    {
      "cell_type": "code",
      "source": [
        "num = [1,2,3,4,5,6,7,8]\n",
        "squares = [x ** 2 for x in num if x%2 == 0]  #square of even numbers\n",
        "print(squares)"
      ],
      "metadata": {
        "colab": {
          "base_uri": "https://localhost:8080/"
        },
        "id": "Nggcaw_Gpz1_",
        "outputId": "9254d083-4eed-4c79-f34a-48969744ce1c"
      },
      "execution_count": 48,
      "outputs": [
        {
          "output_type": "stream",
          "name": "stdout",
          "text": [
            "[4, 16, 36, 64]\n"
          ]
        }
      ]
    },
    {
      "cell_type": "code",
      "source": [
        "def sign(x):\n",
        "  if x > 0:\n",
        "    return \"positive\"\n",
        "  elif x < 0:\n",
        "    return \" negative\"\n",
        "  else:\n",
        "    return \"zero\"\n",
        "\n",
        "for x in [-1,0,1]:\n",
        "  print(sign(x))"
      ],
      "metadata": {
        "colab": {
          "base_uri": "https://localhost:8080/"
        },
        "id": "T31ECi_rrMr-",
        "outputId": "3d40e0a7-0489-4ee3-e766-9752a246b4f4"
      },
      "execution_count": 51,
      "outputs": [
        {
          "output_type": "stream",
          "name": "stdout",
          "text": [
            " negative\n",
            "zero\n",
            "positive\n"
          ]
        }
      ]
    },
    {
      "cell_type": "code",
      "source": [
        "# numpy arrays : it holds only same type of values\n",
        "import numpy as np\n",
        "a = np.array([1,2,3])\n",
        "print(type(a))"
      ],
      "metadata": {
        "colab": {
          "base_uri": "https://localhost:8080/"
        },
        "id": "vQQ7R22Tr4XW",
        "outputId": "9114f39b-5281-4db5-d45f-225201b66d77"
      },
      "execution_count": 52,
      "outputs": [
        {
          "output_type": "stream",
          "name": "stdout",
          "text": [
            "<class 'numpy.ndarray'>\n"
          ]
        }
      ]
    }
  ]
}