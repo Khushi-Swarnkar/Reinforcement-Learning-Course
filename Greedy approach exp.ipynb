{
 "cells": [
  {
   "cell_type": "code",
   "execution_count": 2,
   "id": "9e750acb",
   "metadata": {},
   "outputs": [
    {
     "name": "stdout",
     "output_type": "stream",
     "text": [
      "Average reward using Greedy Approach: 8.0\n",
      "Lamp chosen 2\n"
     ]
    }
   ],
   "source": [
    "import random\n",
    "\n",
    "def greedy_approach(lamp_durations):\n",
    "    best_lamp = None\n",
    "    max_duration = 0\n",
    "    \n",
    "    for lamp, duration in enumerate(lamp_durations):\n",
    "        if duration > max_duration:\n",
    "            max_duration = duration\n",
    "            best_lamp = lamp\n",
    "    \n",
    "    return best_lamp\n",
    "\n",
    "num_lamps = 5\n",
    "lamp_durations = [random.randint(1, 10) for i in range(num_lamps)]  # Generate random durations\n",
    "steps = 1000\n",
    "\n",
    "total_reward = 0\n",
    "for i in range(steps):\n",
    "    chosen_lamp = greedy_approach(lamp_durations)\n",
    "    reward = lamp_durations[chosen_lamp]\n",
    "    total_reward += reward\n",
    "\n",
    "average_reward = total_reward / steps\n",
    "print(\"Average reward using Greedy Approach:\", average_reward)\n",
    "print(\"Lamp chosen\",chosen_lamp)"
   ]
  },
  {
   "cell_type": "code",
   "execution_count": null,
   "id": "f3805b5a",
   "metadata": {},
   "outputs": [],
   "source": []
  }
 ],
 "metadata": {
  "kernelspec": {
   "display_name": "Python 3 (ipykernel)",
   "language": "python",
   "name": "python3"
  },
  "language_info": {
   "codemirror_mode": {
    "name": "ipython",
    "version": 3
   },
   "file_extension": ".py",
   "mimetype": "text/x-python",
   "name": "python",
   "nbconvert_exporter": "python",
   "pygments_lexer": "ipython3",
   "version": "3.9.12"
  }
 },
 "nbformat": 4,
 "nbformat_minor": 5
}
