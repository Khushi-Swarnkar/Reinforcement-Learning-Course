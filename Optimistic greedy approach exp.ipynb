{
 "cells": [
  {
   "cell_type": "code",
   "execution_count": 1,
   "id": "4a7d6980",
   "metadata": {},
   "outputs": [
    {
     "name": "stdout",
     "output_type": "stream",
     "text": [
      "[11, 11, 11, 11, 11]\n",
      "Lamp with maximum reward  4\n",
      "Total reward: 5470\n",
      "[1.815115700226513, 1.6624473960260493, 1.7066508173330908, 1.7862447825563628, 5.715612218565717]\n"
     ]
    }
   ],
   "source": [
    "import random\n",
    "import numpy as np\n",
    "\n",
    "def greedy_approach(lamp_durations,steps):\n",
    "    temp1 = lamp_durations\n",
    "    total_reward = 0\n",
    "    print(temp1)\n",
    "    for i in range(steps):\n",
    "        lamp = temp1.index(max(temp1))\n",
    "        temp = random.randint(1,10)\n",
    "        temp2 = (temp1[lamp]+temp)/2   # average reward\n",
    "        temp1[lamp] = temp2\n",
    "        total_reward = total_reward + temp\n",
    "    print(\"Lamp with maximum reward \" ,np.argmax(temp1))\n",
    "    print(\"Total reward:\",total_reward)\n",
    "    return temp1\n",
    "    \n",
    "\n",
    "lamp_durations = [11, 11, 11, 11, 11]\n",
    "steps = 1000\n",
    "\n",
    "ch_lamp = greedy_approach(lamp_durations,steps)\n",
    "print(ch_lamp)"
   ]
  },
  {
   "cell_type": "code",
   "execution_count": null,
   "id": "37665b9a",
   "metadata": {},
   "outputs": [],
   "source": []
  }
 ],
 "metadata": {
  "kernelspec": {
   "display_name": "Python 3 (ipykernel)",
   "language": "python",
   "name": "python3"
  },
  "language_info": {
   "codemirror_mode": {
    "name": "ipython",
    "version": 3
   },
   "file_extension": ".py",
   "mimetype": "text/x-python",
   "name": "python",
   "nbconvert_exporter": "python",
   "pygments_lexer": "ipython3",
   "version": "3.9.12"
  }
 },
 "nbformat": 4,
 "nbformat_minor": 5
}
