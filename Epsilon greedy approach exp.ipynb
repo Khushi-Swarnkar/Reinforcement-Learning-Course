{
 "cells": [
  {
   "cell_type": "code",
   "execution_count": 1,
   "id": "e4503d01",
   "metadata": {},
   "outputs": [
    {
     "name": "stdout",
     "output_type": "stream",
     "text": [
      "Average reward using Epsilon-Greedy Approach: 5.589275169017655\n"
     ]
    }
   ],
   "source": [
    "import random\n",
    "\n",
    "def epsilon_greedy_approach(lamp_durations, epsilon):\n",
    "    num_lamps = len(lamp_durations)\n",
    "    chosen_lamp = None\n",
    "    \n",
    "    for _ in range(steps):\n",
    "        if random.random() < epsilon:\n",
    "            chosen_lamp = random.randint(0, num_lamps - 1)\n",
    "        else:\n",
    "            chosen_lamp = lamp_durations.index(max(lamp_durations))\n",
    "        reward = lamp_durations[chosen_lamp]\n",
    "        observed_duration = random.randint(1, 10)  # Generate random observed duration\n",
    "        lamp_durations[chosen_lamp] = (lamp_durations[chosen_lamp] + observed_duration) / 2\n",
    "    \n",
    "    return chosen_lamp\n",
    "\n",
    "num_lamps = 5\n",
    "lamp_durations = [random.randint(1, 10) for _ in range(num_lamps)]  # Generate random durations\n",
    "steps = 1000\n",
    "exploration_probability = 0.1  # Set epsilon value\n",
    "\n",
    "total_reward = 0\n",
    "for _ in range(steps):\n",
    "    chosen_lamp = epsilon_greedy_approach(lamp_durations, exploration_probability)\n",
    "    reward = lamp_durations[chosen_lamp]\n",
    "    total_reward += reward\n",
    "\n",
    "average_reward = total_reward / steps\n",
    "print(\"Average reward using Epsilon-Greedy Approach:\", average_reward)\n"
   ]
  },
  {
   "cell_type": "code",
   "execution_count": null,
   "id": "0d2256be",
   "metadata": {},
   "outputs": [],
   "source": []
  }
 ],
 "metadata": {
  "kernelspec": {
   "display_name": "Python 3 (ipykernel)",
   "language": "python",
   "name": "python3"
  },
  "language_info": {
   "codemirror_mode": {
    "name": "ipython",
    "version": 3
   },
   "file_extension": ".py",
   "mimetype": "text/x-python",
   "name": "python",
   "nbconvert_exporter": "python",
   "pygments_lexer": "ipython3",
   "version": "3.9.12"
  }
 },
 "nbformat": 4,
 "nbformat_minor": 5
}
